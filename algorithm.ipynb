{
 "cells": [
  {
   "cell_type": "code",
   "execution_count": 49,
   "metadata": {},
   "outputs": [
    {
     "name": "stdout",
     "output_type": "stream",
     "text": [
      "[[None, 0], [1, 2], [3, 4], [5, 6], [7, 8], [9, 10], [11, 12], [13, 14], [15, 16], [17, 18]]\n",
      "truck count 19\n",
      "[0, 1]\n",
      "Pick up container at row: 0 column: 1\n",
      "0\n",
      "[[None, None], [1, 2], [3, 4], [5, 6], [7, 8], [9, 10], [11, 12], [13, 14], [15, 16], [17, 18]]\n",
      "[1, 0]\n",
      "Pick up container at row: 1 column: 0\n",
      "1\n",
      "[[None, None], [None, 2], [3, 4], [5, 6], [7, 8], [9, 10], [11, 12], [13, 14], [15, 16], [17, 18]]\n",
      "[1, 1]\n",
      "Pick up container at row: 1 column: 1\n",
      "2\n",
      "[[None, None], [None, None], [3, 4], [5, 6], [7, 8], [9, 10], [11, 12], [13, 14], [15, 16], [17, 18]]\n",
      "[2, 0]\n",
      "Pick up container at row: 2 column: 0\n",
      "3\n",
      "[[None, None], [None, None], [None, 4], [5, 6], [7, 8], [9, 10], [11, 12], [13, 14], [15, 16], [17, 18]]\n",
      "[2, 1]\n",
      "Pick up container at row: 2 column: 1\n",
      "4\n",
      "[[None, None], [None, None], [None, None], [5, 6], [7, 8], [9, 10], [11, 12], [13, 14], [15, 16], [17, 18]]\n",
      "[3, 0]\n",
      "Pick up container at row: 3 column: 0\n",
      "5\n",
      "[[None, None], [None, None], [None, None], [None, 6], [7, 8], [9, 10], [11, 12], [13, 14], [15, 16], [17, 18]]\n",
      "[3, 1]\n",
      "Pick up container at row: 3 column: 1\n",
      "6\n",
      "[[None, None], [None, None], [None, None], [None, None], [7, 8], [9, 10], [11, 12], [13, 14], [15, 16], [17, 18]]\n",
      "[4, 0]\n",
      "Pick up container at row: 4 column: 0\n",
      "7\n",
      "[[None, None], [None, None], [None, None], [None, None], [None, 8], [9, 10], [11, 12], [13, 14], [15, 16], [17, 18]]\n",
      "[4, 1]\n",
      "Pick up container at row: 4 column: 1\n",
      "8\n",
      "[[None, None], [None, None], [None, None], [None, None], [None, None], [9, 10], [11, 12], [13, 14], [15, 16], [17, 18]]\n",
      "[5, 0]\n",
      "Pick up container at row: 5 column: 0\n",
      "9\n",
      "[[None, None], [None, None], [None, None], [None, None], [None, None], [None, 10], [11, 12], [13, 14], [15, 16], [17, 18]]\n"
     ]
    }
   ],
   "source": [
    "# Copyright FassTrack 2019\n",
    "# Assuming n (length of container queue) = 10\n",
    "\n",
    "n = 10\n",
    "# Container numbers sorted in who_leaves_first order\n",
    "schedule = [ i for i in range(100)]\n",
    "\n",
    "late_trucks = []\n",
    "cont = [ [ 0, 0 ] for i in range(10) ]\n",
    "\n",
    "serviced_truck_counter = 0\n",
    "service_pointer = [0,0,1]\n",
    "truck_count = 0\n",
    "cont[0][0] = None\n",
    "cont[0][1] = schedule[0]\n",
    "truck_count = 1\n",
    "\n",
    "for i in range(len(cont)):\n",
    "    if i == 0:\n",
    "        continue\n",
    "#     print  cont[i][1]\n",
    "#     print  cont[i][0]\n",
    "    cont[i][0] = schedule[truck_count]\n",
    "    cont[i][1] = schedule[truck_count+1]\n",
    "    truck_count = truck_count + 2\n",
    "print cont\n",
    "print \"truck count\",truck_count\n",
    "\n",
    "# also return some instructions\n",
    "\n",
    "for i in range(10):\n",
    "    # Waiting for signal\n",
    "    \n",
    "    # system gets what_do_i_do signal from crane\n",
    "    #1 \n",
    "    #2 load a container onto a truck\n",
    "    serve_cont(service_pointer)\n",
    "    \n",
    "    #3 Add new containers into the queue\n",
    "    if \n",
    "#     if serviced_truck_counter == schedule[-1]\n",
    "#          break\n",
    "#     if cont[1] == [None, None]:\n",
    "#         continue"
   ]
  },
  {
   "cell_type": "code",
   "execution_count": 41,
   "metadata": {},
   "outputs": [],
   "source": [
    "def update_pointer(old_pointer):\n",
    "    if old_pointer[1] == 0:\n",
    "        old_pointer[1] = 1\n",
    "    else:\n",
    "        old_pointer[0] = old_pointer[0] + 1\n",
    "        old_pointer[1] = 0 \n",
    "        \n",
    "    return old_pointer\n"
   ]
  },
  {
   "cell_type": "code",
   "execution_count": 48,
   "metadata": {},
   "outputs": [],
   "source": [
    "def serve_cont(service_pointer):\n",
    "    print service_pointer\n",
    "    container_to_load = cont[service_pointer[1]][service_pointer[1]]\n",
    "    print \"Pick up container at row: {0} column: {1}\".format(service_pointer[1]],service_pointer[2])\n",
    "    # Print command here represents that container has been loaded\n",
    "    print container_to_load\n",
    "    # set value to None\n",
    "    cont[service_pointer[1]][service_pointer[2]] = None\n",
    "    service_pointer = update_pointer(service_pointer)\n",
    "    print cont\n"
   ]
  },
  {
   "cell_type": "code",
   "execution_count": null,
   "metadata": {},
   "outputs": [],
   "source": [
    "def refill():\n",
    "    return cont_num"
   ]
  },
  {
   "cell_type": "code",
   "execution_count": null,
   "metadata": {},
   "outputs": [],
   "source": [
    "def late_truck():\n",
    "    return cont_num"
   ]
  },
  {
   "cell_type": "code",
   "execution_count": 29,
   "metadata": {},
   "outputs": [
    {
     "data": {
      "text/plain": [
       "[3, 1]"
      ]
     },
     "execution_count": 29,
     "metadata": {},
     "output_type": "execute_result"
    }
   ],
   "source": [
    "update_pointer([3,0])"
   ]
  }
 ],
 "metadata": {
  "kernelspec": {
   "display_name": "Python 2",
   "language": "python",
   "name": "python2"
  },
  "language_info": {
   "codemirror_mode": {
    "name": "ipython",
    "version": 2
   },
   "file_extension": ".py",
   "mimetype": "text/x-python",
   "name": "python",
   "nbconvert_exporter": "python",
   "pygments_lexer": "ipython2",
   "version": "2.7.15+"
  }
 },
 "nbformat": 4,
 "nbformat_minor": 2
}
